{
 "cells": [
  {
   "cell_type": "markdown",
   "id": "a589da73",
   "metadata": {},
   "source": [
    "## 1. What is Control Flow?\n"
   ]
  },
  {
   "cell_type": "markdown",
   "id": "33d9a119",
   "metadata": {},
   "source": [
    "- Control flow is like the “traffic controller” of your program.\n",
    "- It decides which code runs, when it runs, and how many times it runs — based on conditions and rules.\n",
    "\n",
    "- Two big parts:-\n",
    "\n",
    "    - Decision making → if, elif, else\n",
    "    - Repetition → loops (for, while)\n",
    "\n"
   ]
  },
  {
   "cell_type": "markdown",
   "id": "6787db34",
   "metadata": {},
   "source": [
    "**2. Decision Making (if/else)**\n",
    "Think of it like your daily choices:\n",
    "\n",
    "- if → “If it’s raining, take an umbrella.”\n",
    "\n",
    "- elif (else if) → “Else if it’s sunny, wear sunglasses.”\n",
    "\n",
    "- else → “Else, just go out as usual.”"
   ]
  },
  {
   "cell_type": "code",
   "execution_count": 1,
   "id": "fcba27ef",
   "metadata": {},
   "outputs": [
    {
     "ename": "IndentationError",
     "evalue": "expected an indented block after 'if' statement on line 2 (741519728.py, line 4)",
     "output_type": "error",
     "traceback": [
      "\u001b[1;36m  Cell \u001b[1;32mIn[1], line 4\u001b[1;36m\u001b[0m\n\u001b[1;33m    elif another_condition:\u001b[0m\n\u001b[1;37m    ^\u001b[0m\n\u001b[1;31mIndentationError\u001b[0m\u001b[1;31m:\u001b[0m expected an indented block after 'if' statement on line 2\n"
     ]
    }
   ],
   "source": [
    "# Syntax:-\n",
    "if condition:\n",
    "    # code runs if condition is True\n",
    "elif another_condition:\n",
    "    # runs if first condition is False, but this is True\n",
    "else:\n",
    "    # runs if none of the above are True\n"
   ]
  },
  {
   "cell_type": "code",
   "execution_count": 2,
   "id": "d29103fa",
   "metadata": {},
   "outputs": [
    {
     "name": "stdout",
     "output_type": "stream",
     "text": [
      "It's warm!\n"
     ]
    }
   ],
   "source": [
    "temperature = 28\n",
    "\n",
    "if temperature > 30:\n",
    "    print(\"It's hot!\")\n",
    "elif temperature > 20:\n",
    "    print(\"It's warm!\")\n",
    "else:\n",
    "    print(\"It's cold!\")\n"
   ]
  },
  {
   "cell_type": "markdown",
   "id": "c10d10f2",
   "metadata": {},
   "source": [
    "## 3. Loops — Repetition\n",
    "Loops help you do something multiple times without writing the code over and over.\n",
    "\n"
   ]
  },
  {
   "cell_type": "markdown",
   "id": "eee5fe52",
   "metadata": {},
   "source": [
    "**1. for loop**\n",
    "- Best for looping over a sequence (list, string, range etc)"
   ]
  },
  {
   "cell_type": "code",
   "execution_count": 3,
   "id": "99fff4cc",
   "metadata": {},
   "outputs": [
    {
     "name": "stdout",
     "output_type": "stream",
     "text": [
      "Apple\n",
      "Banana\n",
      "Cherry\n"
     ]
    }
   ],
   "source": [
    "fruits = [\"Apple\", \"Banana\", \"Cherry\"]\n",
    "for fruit in fruits:\n",
    "    print(fruit)"
   ]
  },
  {
   "cell_type": "markdown",
   "id": "f1ed67ab",
   "metadata": {},
   "source": [
    "**2. while loop**\n",
    "- Runs while a condition is True.\n",
    "- You have to manually update something inside it, or it will loop forever."
   ]
  },
  {
   "cell_type": "code",
   "execution_count": 2,
   "id": "4f8025b7",
   "metadata": {},
   "outputs": [
    {
     "name": "stdout",
     "output_type": "stream",
     "text": [
      "Count: 1\n",
      "Count: 2\n",
      "Count: 3\n",
      "Count: 4\n",
      "Count: 5\n"
     ]
    }
   ],
   "source": [
    "count = 1\n",
    "while count <= 5:\n",
    "    print(\"Count:\", count)\n",
    "    count += 1"
   ]
  },
  {
   "cell_type": "markdown",
   "id": "34104da6",
   "metadata": {},
   "source": [
    "**3.Extra: break & continue**\n",
    "- break → stop the loop completely.\n",
    "- continue → skip to the next iteration."
   ]
  },
  {
   "cell_type": "code",
   "execution_count": 3,
   "id": "ea4977a8",
   "metadata": {},
   "outputs": [
    {
     "name": "stdout",
     "output_type": "stream",
     "text": [
      "Current i: 1\n",
      "Current i: 2\n",
      "Current i: 4\n"
     ]
    }
   ],
   "source": [
    "for i in range(1, 6):\n",
    "    if i == 3:\n",
    "        continue  # Skip the rest of the loop when i is 3\n",
    "    if i == 5:\n",
    "        break  # Exit the loop when i is 5\n",
    "    print(\"Current i:\", i)\n"
   ]
  },
  {
   "cell_type": "markdown",
   "id": "5c22c989",
   "metadata": {},
   "source": [
    "- continue: when i == 3 the program hits continue. That skips the rest of that iteration and jumps to the next value from range. So the if i == 5 check and the print are not executed for i == 3.\n",
    "- break: when i == 5 the program hits break. That exits the entire loop right away — no further iterations happen and nothing more is printed."
   ]
  },
  {
   "cell_type": "code",
   "execution_count": 5,
   "id": "88db141b",
   "metadata": {},
   "outputs": [
    {
     "name": "stdout",
     "output_type": "stream",
     "text": [
      "Start iteration: i = 1\n",
      " -> printing 1\n",
      "Start iteration: i = 2\n",
      " -> printing 2\n",
      "Start iteration: i = 3\n",
      " -> i == 3, continue\n",
      "Start iteration: i = 4\n",
      " -> printing 4\n",
      "Start iteration: i = 5\n",
      " -> i == 5, break\n"
     ]
    }
   ],
   "source": [
    "# Add debug prints to observe the flow:-\n",
    "for i in range(1, 6):\n",
    "    print(\"Start iteration: i =\", i)\n",
    "    if i == 3:\n",
    "        print(\" -> i == 3, continue\")\n",
    "        continue\n",
    "    if i == 5:\n",
    "        print(\" -> i == 5, break\")\n",
    "        break\n",
    "    print(\" -> printing\", i)\n"
   ]
  },
  {
   "cell_type": "markdown",
   "id": "3e4e75e7",
   "metadata": {},
   "source": [
    "**4. Practice Challenges**\n"
   ]
  },
  {
   "cell_type": "markdown",
   "id": "61f2b2c7",
   "metadata": {},
   "source": [
    "1. Even or Odd Checker\n",
    "- Ask the user for a number.\n",
    "If it’s even, print “Even number”; otherwise, print “Odd number”."
   ]
  },
  {
   "cell_type": "code",
   "execution_count": 9,
   "id": "cf83fd6b",
   "metadata": {},
   "outputs": [
    {
     "name": "stdout",
     "output_type": "stream",
     "text": [
      "7 is odd number!\n"
     ]
    }
   ],
   "source": [
    "num = int(input(\"Enter a number:\"))\n",
    "if num % 2 == 0:\n",
    "    print(f\"{num} is Even number!\")\n",
    "else:\n",
    "    print(f\"{num} is odd number!\")"
   ]
  },
  {
   "cell_type": "code",
   "execution_count": null,
   "id": "3a2b05cc",
   "metadata": {},
   "outputs": [
    {
     "name": "stdout",
     "output_type": "stream",
     "text": [
      "23 is Odd number!\n",
      "❌ Please enter a valid number or 'exit' to stop.\n",
      "Program stopped!\n"
     ]
    }
   ],
   "source": [
    "# #  here’s a loop version that keeps asking for numbers until the user types \"exit\"\n",
    "\n",
    "while True: \n",
    "    user_input = input(\"Enter a number (or type 'exit' to stop): \")\n",
    "    if user_input.lower() == 'exit':\n",
    "        print(\"Program stopped!\")\n",
    "        break\n",
    "    # Convert input to integer\n",
    "    try:\n",
    "        num = int(user_input)\n",
    "        if num % 2 == 0:\n",
    "            print(f\"{num} is Even number!\")\n",
    "        else:\n",
    "            print(f\"{num} is Odd number!\")\n",
    "    except ValueError:\n",
    "        print(\"❌ Please enter a valid number or 'exit' to stop.\")\n"
   ]
  },
  {
   "cell_type": "markdown",
   "id": "2140c8eb",
   "metadata": {},
   "source": [
    "**Here's the detailed Explanation for better understanding**\n",
    "- while True → starts an infinite loop.\n",
    "- Ask for input each time\n",
    "- if user type \"exit\" then it will break the loop.\n",
    "- try-except -> make sure the program doesn't crash if the user types something that's not a number\n",
    "- then we convert input to integer\n",
    "- Uses modulus (%) to check even/odd.\n",
    "- Keeps running until user stops.\n",
    "\n"
   ]
  },
  {
   "cell_type": "code",
   "execution_count": 14,
   "id": "d5d3ab26",
   "metadata": {},
   "outputs": [
    {
     "name": "stdout",
     "output_type": "stream",
     "text": [
      "43 is Odd number!\n",
      "89 is Odd number!\n",
      "2 is Even number!\n",
      "Program stopped!\n",
      "Total Even numbers: 1\n",
      "Total Odd numbers: 2\n"
     ]
    }
   ],
   "source": [
    "# We’ll keep track of how many even and how many odd numbers the user enters before typing \"exit\".\n",
    "even_count = 0\n",
    "odd_count = 0\n",
    "\n",
    "while True:\n",
    "    user_input = input(\"Enter a number (or type 'exit' to stop): \")\n",
    "    if user_input.lower() == \"exit\":\n",
    "        print(\"Program stopped!\")\n",
    "        break\n",
    "    try:\n",
    "        num = int(user_input)\n",
    "        if num % 2 == 0:\n",
    "            even_count += 1\n",
    "            print(f\"{num} is Even number!\")\n",
    "        else:\n",
    "            odd_count += 1\n",
    "            print(f\"{num} is Odd number!\")\n",
    "    except ValueError:\n",
    "        print(\"❌ Please enter a valid number or 'exit' to stop.\")\n",
    "\n",
    "print(f\"Total Even numbers: {even_count}\")\n",
    "print(f\"Total Odd numbers: {odd_count}\")\n"
   ]
  },
  {
   "cell_type": "markdown",
   "id": "8b41dea2",
   "metadata": {},
   "source": [
    "**2. Multiplication table**"
   ]
  },
  {
   "cell_type": "code",
   "execution_count": 15,
   "id": "9c2a881e",
   "metadata": {},
   "outputs": [
    {
     "name": "stdout",
     "output_type": "stream",
     "text": [
      "12 x 1 = 12\n",
      "12 x 2 = 24\n",
      "12 x 3 = 36\n",
      "12 x 4 = 48\n",
      "12 x 5 = 60\n",
      "12 x 6 = 72\n",
      "12 x 7 = 84\n",
      "12 x 8 = 96\n",
      "12 x 9 = 108\n",
      "12 x 10 = 120\n"
     ]
    }
   ],
   "source": [
    "num = int(input(\"Enter a number to display its multiplication table:\"))\n",
    "for i in range(1, 11):\n",
    "    print(f\"{num} x {i} = {num * i}\")"
   ]
  },
  {
   "cell_type": "code",
   "execution_count": null,
   "id": "48cd86bf",
   "metadata": {},
   "outputs": [],
   "source": []
  },
  {
   "cell_type": "markdown",
   "id": "8390f745",
   "metadata": {},
   "source": []
  },
  {
   "cell_type": "markdown",
   "id": "56ae6cbe",
   "metadata": {},
   "source": []
  }
 ],
 "metadata": {
  "kernelspec": {
   "display_name": "Python 3",
   "language": "python",
   "name": "python3"
  },
  "language_info": {
   "codemirror_mode": {
    "name": "ipython",
    "version": 3
   },
   "file_extension": ".py",
   "mimetype": "text/x-python",
   "name": "python",
   "nbconvert_exporter": "python",
   "pygments_lexer": "ipython3",
   "version": "3.10.18"
  }
 },
 "nbformat": 4,
 "nbformat_minor": 5
}
