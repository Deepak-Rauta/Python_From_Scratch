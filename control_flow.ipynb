{
 "cells": [
  {
   "cell_type": "markdown",
   "id": "a589da73",
   "metadata": {},
   "source": [
    "## 1. What is Control Flow?\n"
   ]
  },
  {
   "cell_type": "markdown",
   "id": "33d9a119",
   "metadata": {},
   "source": [
    "- Control flow is like the “traffic controller” of your program.\n",
    "- It decides which code runs, when it runs, and how many times it runs — based on conditions and rules.\n",
    "\n",
    "- Two big parts:-\n",
    "\n",
    "    - Decision making → if, elif, else\n",
    "    - Repetition → loops (for, while)\n",
    "\n"
   ]
  },
  {
   "cell_type": "markdown",
   "id": "6787db34",
   "metadata": {},
   "source": [
    "**2. Decision Making (if/else)**\n",
    "Think of it like your daily choices:\n",
    "\n",
    "- if → “If it’s raining, take an umbrella.”\n",
    "\n",
    "- elif (else if) → “Else if it’s sunny, wear sunglasses.”\n",
    "\n",
    "- else → “Else, just go out as usual.”"
   ]
  },
  {
   "cell_type": "code",
   "execution_count": 1,
   "id": "fcba27ef",
   "metadata": {},
   "outputs": [
    {
     "ename": "IndentationError",
     "evalue": "expected an indented block after 'if' statement on line 2 (741519728.py, line 4)",
     "output_type": "error",
     "traceback": [
      "\u001b[1;36m  Cell \u001b[1;32mIn[1], line 4\u001b[1;36m\u001b[0m\n\u001b[1;33m    elif another_condition:\u001b[0m\n\u001b[1;37m    ^\u001b[0m\n\u001b[1;31mIndentationError\u001b[0m\u001b[1;31m:\u001b[0m expected an indented block after 'if' statement on line 2\n"
     ]
    }
   ],
   "source": [
    "# Syntax:-\n",
    "if condition:\n",
    "    # code runs if condition is True\n",
    "elif another_condition:\n",
    "    # runs if first condition is False, but this is True\n",
    "else:\n",
    "    # runs if none of the above are True\n"
   ]
  },
  {
   "cell_type": "code",
   "execution_count": 2,
   "id": "d29103fa",
   "metadata": {},
   "outputs": [
    {
     "name": "stdout",
     "output_type": "stream",
     "text": [
      "It's warm!\n"
     ]
    }
   ],
   "source": [
    "temperature = 28\n",
    "\n",
    "if temperature > 30:\n",
    "    print(\"It's hot!\")\n",
    "elif temperature > 20:\n",
    "    print(\"It's warm!\")\n",
    "else:\n",
    "    print(\"It's cold!\")\n"
   ]
  },
  {
   "cell_type": "markdown",
   "id": "c10d10f2",
   "metadata": {},
   "source": [
    "## 3. Loops — Repetition\n",
    "Loops help you do something multiple times without writing the code over and over.\n",
    "\n"
   ]
  },
  {
   "cell_type": "markdown",
   "id": "eee5fe52",
   "metadata": {},
   "source": [
    "**1. for loop**\n",
    "- Best for looping over a sequence (list, string, range etc)"
   ]
  },
  {
   "cell_type": "code",
   "execution_count": 3,
   "id": "99fff4cc",
   "metadata": {},
   "outputs": [
    {
     "name": "stdout",
     "output_type": "stream",
     "text": [
      "Apple\n",
      "Banana\n",
      "Cherry\n"
     ]
    }
   ],
   "source": [
    "fruits = [\"Apple\", \"Banana\", \"Cherry\"]\n",
    "for fruit in fruits:\n",
    "    print(fruit)"
   ]
  },
  {
   "cell_type": "markdown",
   "id": "f1ed67ab",
   "metadata": {},
   "source": [
    "**2. while loop**\n",
    "- Runs while a condition is True.\n",
    "- You have to manually update something inside it, or it will loop forever."
   ]
  },
  {
   "cell_type": "code",
   "execution_count": 2,
   "id": "4f8025b7",
   "metadata": {},
   "outputs": [
    {
     "name": "stdout",
     "output_type": "stream",
     "text": [
      "Count: 1\n",
      "Count: 2\n",
      "Count: 3\n",
      "Count: 4\n",
      "Count: 5\n"
     ]
    }
   ],
   "source": [
    "count = 1\n",
    "while count <= 5:\n",
    "    print(\"Count:\", count)\n",
    "    count += 1"
   ]
  },
  {
   "cell_type": "markdown",
   "id": "34104da6",
   "metadata": {},
   "source": [
    "**3.Extra: break & continue**\n",
    "- break → stop the loop completely.\n",
    "- continue → skip to the next iteration."
   ]
  },
  {
   "cell_type": "code",
   "execution_count": 3,
   "id": "ea4977a8",
   "metadata": {},
   "outputs": [
    {
     "name": "stdout",
     "output_type": "stream",
     "text": [
      "Current i: 1\n",
      "Current i: 2\n",
      "Current i: 4\n"
     ]
    }
   ],
   "source": [
    "for i in range(1, 6):\n",
    "    if i == 3:\n",
    "        continue  # Skip the rest of the loop when i is 3\n",
    "    if i == 5:\n",
    "        break  # Exit the loop when i is 5\n",
    "    print(\"Current i:\", i)\n"
   ]
  },
  {
   "cell_type": "markdown",
   "id": "5c22c989",
   "metadata": {},
   "source": [
    "- continue: when i == 3 the program hits continue. That skips the rest of that iteration and jumps to the next value from range. So the if i == 5 check and the print are not executed for i == 3.\n",
    "- break: when i == 5 the program hits break. That exits the entire loop right away — no further iterations happen and nothing more is printed."
   ]
  },
  {
   "cell_type": "code",
   "execution_count": 5,
   "id": "88db141b",
   "metadata": {},
   "outputs": [
    {
     "name": "stdout",
     "output_type": "stream",
     "text": [
      "Start iteration: i = 1\n",
      " -> printing 1\n",
      "Start iteration: i = 2\n",
      " -> printing 2\n",
      "Start iteration: i = 3\n",
      " -> i == 3, continue\n",
      "Start iteration: i = 4\n",
      " -> printing 4\n",
      "Start iteration: i = 5\n",
      " -> i == 5, break\n"
     ]
    }
   ],
   "source": [
    "# Add debug prints to observe the flow:-\n",
    "for i in range(1, 6):\n",
    "    print(\"Start iteration: i =\", i)\n",
    "    if i == 3:\n",
    "        print(\" -> i == 3, continue\")\n",
    "        continue\n",
    "    if i == 5:\n",
    "        print(\" -> i == 5, break\")\n",
    "        break\n",
    "    print(\" -> printing\", i)\n"
   ]
  },
  {
   "cell_type": "markdown",
   "id": "3e4e75e7",
   "metadata": {},
   "source": [
    "**4. Practice Challenges**\n"
   ]
  },
  {
   "cell_type": "markdown",
   "id": "61f2b2c7",
   "metadata": {},
   "source": [
    "1. Even or Odd Checker\n",
    "- Ask the user for a number.\n",
    "If it’s even, print “Even number”; otherwise, print “Odd number”."
   ]
  },
  {
   "cell_type": "code",
   "execution_count": 9,
   "id": "cf83fd6b",
   "metadata": {},
   "outputs": [
    {
     "name": "stdout",
     "output_type": "stream",
     "text": [
      "7 is odd number!\n"
     ]
    }
   ],
   "source": [
    "num = int(input(\"Enter a number:\"))\n",
    "if num % 2 == 0:\n",
    "    print(f\"{num} is Even number!\")\n",
    "else:\n",
    "    print(f\"{num} is odd number!\")"
   ]
  },
  {
   "cell_type": "code",
   "execution_count": null,
   "id": "3a2b05cc",
   "metadata": {},
   "outputs": [
    {
     "name": "stdout",
     "output_type": "stream",
     "text": [
      "23 is Odd number!\n",
      "❌ Please enter a valid number or 'exit' to stop.\n",
      "Program stopped!\n"
     ]
    }
   ],
   "source": [
    "# #  here’s a loop version that keeps asking for numbers until the user types \"exit\"\n",
    "\n",
    "while True: \n",
    "    user_input = input(\"Enter a number (or type 'exit' to stop): \")\n",
    "    if user_input.lower() == 'exit':\n",
    "        print(\"Program stopped!\")\n",
    "        break\n",
    "    # Convert input to integer\n",
    "    try:\n",
    "        num = int(user_input)\n",
    "        if num % 2 == 0:\n",
    "            print(f\"{num} is Even number!\")\n",
    "        else:\n",
    "            print(f\"{num} is Odd number!\")\n",
    "    except ValueError:\n",
    "        print(\"❌ Please enter a valid number or 'exit' to stop.\")\n"
   ]
  },
  {
   "cell_type": "markdown",
   "id": "2140c8eb",
   "metadata": {},
   "source": [
    "**Here's the detailed Explanation for better understanding**\n",
    "- while True → starts an infinite loop.\n",
    "- Ask for input each time\n",
    "- if user type \"exit\" then it will break the loop.\n",
    "- try-except -> make sure the program doesn't crash if the user types something that's not a number\n",
    "- then we convert input to integer\n",
    "- Uses modulus (%) to check even/odd.\n",
    "- Keeps running until user stops.\n",
    "\n"
   ]
  },
  {
   "cell_type": "code",
   "execution_count": 14,
   "id": "d5d3ab26",
   "metadata": {},
   "outputs": [
    {
     "name": "stdout",
     "output_type": "stream",
     "text": [
      "43 is Odd number!\n",
      "89 is Odd number!\n",
      "2 is Even number!\n",
      "Program stopped!\n",
      "Total Even numbers: 1\n",
      "Total Odd numbers: 2\n"
     ]
    }
   ],
   "source": [
    "# We’ll keep track of how many even and how many odd numbers the user enters before typing \"exit\".\n",
    "even_count = 0\n",
    "odd_count = 0\n",
    "\n",
    "while True:\n",
    "    user_input = input(\"Enter a number (or type 'exit' to stop): \")\n",
    "    if user_input.lower() == \"exit\":\n",
    "        print(\"Program stopped!\")\n",
    "        break\n",
    "    try:\n",
    "        num = int(user_input)\n",
    "        if num % 2 == 0:\n",
    "            even_count += 1\n",
    "            print(f\"{num} is Even number!\")\n",
    "        else:\n",
    "            odd_count += 1\n",
    "            print(f\"{num} is Odd number!\")\n",
    "    except ValueError:\n",
    "        print(\"❌ Please enter a valid number or 'exit' to stop.\")\n",
    "\n",
    "print(f\"Total Even numbers: {even_count}\")\n",
    "print(f\"Total Odd numbers: {odd_count}\")\n"
   ]
  },
  {
   "cell_type": "markdown",
   "id": "8b41dea2",
   "metadata": {},
   "source": [
    "**2. Multiplication table**"
   ]
  },
  {
   "cell_type": "code",
   "execution_count": 15,
   "id": "9c2a881e",
   "metadata": {},
   "outputs": [
    {
     "name": "stdout",
     "output_type": "stream",
     "text": [
      "12 x 1 = 12\n",
      "12 x 2 = 24\n",
      "12 x 3 = 36\n",
      "12 x 4 = 48\n",
      "12 x 5 = 60\n",
      "12 x 6 = 72\n",
      "12 x 7 = 84\n",
      "12 x 8 = 96\n",
      "12 x 9 = 108\n",
      "12 x 10 = 120\n"
     ]
    }
   ],
   "source": [
    "num = int(input(\"Enter a number to display its multiplication table:\"))\n",
    "for i in range(1, 11):\n",
    "    print(f\"{num} x {i} = {num * i}\")"
   ]
  },
  {
   "cell_type": "code",
   "execution_count": 1,
   "id": "389507ef",
   "metadata": {},
   "outputs": [
    {
     "name": "stdout",
     "output_type": "stream",
     "text": [
      "Multiplication table for 12 (from 1 to 10)\n",
      "----------------------------------------\n",
      "12 x 1  = 12\n",
      "12 x 2  = 24\n",
      "12 x 3  = 36\n",
      "12 x 4  = 48\n",
      "12 x 5  = 60\n",
      "12 x 6  = 72\n",
      "12 x 7  = 84\n",
      "12 x 8  = 96\n",
      "12 x 9  = 108\n",
      "12 x 10 = 120\n",
      "Program stopped!\n",
      "Summary!\n",
      "Total tables printed: 1\n"
     ]
    }
   ],
   "source": [
    "# Advance multiplication table\n",
    "table_count = 0\n",
    "while True:\n",
    "    user_input = input(\"Enter a number for multiplication table (or type 'exit' to stop the program:)\")\n",
    "    if user_input.lower() == \"exit\":\n",
    "        print(\"Program stopped!\")\n",
    "        break\n",
    "    try:\n",
    "        num = int(user_input)\n",
    "        start = int(input(\"Enter the starting multiplier:\"))\n",
    "        end = int(input(\"Enter the ending multiplier:\"))\n",
    "\n",
    "        print(f\"Multiplication table for {num} (from {start} to {end})\")\n",
    "        print(\"-\" * 40)\n",
    "\n",
    "        for i in range(start, end + 1):\n",
    "            print(f\"{num} x {i:<2} = {num * i}\")\n",
    "\n",
    "        table_count += 1\n",
    "    except ValueError:\n",
    "        print(\"Please enter a valid numbers!\")\n",
    "\n",
    "print(\"Summary!\")\n",
    "print(f'Total tables printed: {table_count}')\n",
    "        "
   ]
  },
  {
   "cell_type": "code",
   "execution_count": 2,
   "id": "efc141c0",
   "metadata": {},
   "outputs": [
    {
     "name": "stdout",
     "output_type": "stream",
     "text": [
      "\n",
      "📊 Multiplication Table for 8 (from 1 to 10)\n",
      "----------------------------------------\n",
      "8 x 1  = 8\n",
      "8 x 2  = 16\n",
      "8 x 3  = 24\n",
      "8 x 4  = 32\n",
      "8 x 5  = 40\n",
      "8 x 6  = 48\n",
      "8 x 7  = 56\n",
      "8 x 8  = 64\n",
      "8 x 9  = 72\n",
      "8 x 10 = 80\n",
      "\n",
      "📊 Multiplication Table for 5 (from 1 to 10)\n",
      "----------------------------------------\n",
      "5 x 1  = 5\n",
      "5 x 2  = 10\n",
      "5 x 3  = 15\n",
      "5 x 4  = 20\n",
      "5 x 5  = 25\n",
      "5 x 6  = 30\n",
      "5 x 7  = 35\n",
      "5 x 8  = 40\n",
      "5 x 9  = 45\n",
      "5 x 10 = 50\n",
      "\n",
      "Program stopped.\n",
      "\n",
      "✅ Summary:\n",
      "Total tables printed: 2\n"
     ]
    }
   ],
   "source": [
    "table_count = 0\n",
    "\n",
    "while True:\n",
    "    user_input = input(\"\\nEnter a number for multiplication table (or type 'exit' to stop): \")\n",
    "\n",
    "    if user_input.lower() == \"exit\":\n",
    "        print(\"\\nProgram stopped.\")\n",
    "        break\n",
    "\n",
    "    try:\n",
    "        num = int(user_input)\n",
    "        start = int(input(\"Enter the starting multiplier: \"))\n",
    "        end = int(input(\"Enter the ending multiplier: \"))\n",
    "\n",
    "        print(f\"\\n📊 Multiplication Table for {num} (from {start} to {end})\")\n",
    "        print(\"-\" * 40)\n",
    "\n",
    "        for i in range(start, end + 1):\n",
    "            print(f\"{num} x {i:<2} = {num * i}\")\n",
    "\n",
    "        table_count += 1\n",
    "\n",
    "    except ValueError:\n",
    "        print(\"❌ Please enter valid numbers!\")\n",
    "\n",
    "# Final summary\n",
    "print(\"\\n✅ Summary:\")\n",
    "print(f\"Total tables printed: {table_count}\")\n",
    "\n"
   ]
  },
  {
   "cell_type": "markdown",
   "id": "2198854f",
   "metadata": {},
   "source": [
    "**print(\"-\" * 40):-**\n",
    "- isn’t some mysterious Python magic — it’s just a quick way to print a horizontal separator for formatting.\n",
    "\n",
    "- In Python, you can multiply strings by numbers.\n",
    "\n",
    "- \"–\" is just a single dash character.\n",
    "\n",
    "- \"–\" * 40 means:\n",
    "\n",
    "- **output:-**\n",
    "    - \"–\" + \"–\" + \"–\" + ... (40 times)\n",
    "\n",
    "**{i:<2}:-**\n",
    "-  Python’s f-string formatting.\n",
    "\n",
    "-  It controls how the value is aligned and spaced when printed.\n",
    "\n",
    "**Breaking {i:<2} down:**\n",
    "- i → the variable you want to print.\n",
    "\n",
    "- : → starts the formatting instructions.\n",
    "\n",
    "- < → means left align the value in the available space.\n",
    "\n",
    "- 2 → means the total width of the space is 2 characters.\n",
    "\n"
   ]
  },
  {
   "cell_type": "code",
   "execution_count": 13,
   "id": "48cd86bf",
   "metadata": {},
   "outputs": [
    {
     "name": "stdout",
     "output_type": "stream",
     "text": [
      "12 is Even number!\n",
      "23 is Odd number!\n",
      "programm Stopped!\n",
      "Total even count is: 1\n",
      "Total odd count is: 1\n"
     ]
    }
   ],
   "source": [
    "even_count = 0\n",
    "odd_count = 0\n",
    "\n",
    "while True:\n",
    "    user_input = input(\"Enter a number (or type 'exit' to stop): \")\n",
    "    if user_input.lower() == \"exit\":\n",
    "        print(\"programm Stopped!\")\n",
    "        break\n",
    "    try:\n",
    "        # Convert user input to integer\n",
    "        num = int(user_input)\n",
    "        if num % 2 == 0:\n",
    "            even_count += 1\n",
    "            print(f\"{num} is Even number!\")\n",
    "            \n",
    "        else:\n",
    "            odd_count += 1\n",
    "            print(f\"{num} is Odd number!\")\n",
    "           \n",
    "    except ValueError:\n",
    "        print(\"Please enter a valid number or type 'exit' to stop the program\")\n",
    "print(f\"Total even count is:\", even_count)\n",
    "print(f\"Total odd count is:\", odd_count)"
   ]
  },
  {
   "cell_type": "markdown",
   "id": "8390f745",
   "metadata": {},
   "source": [
    "## Practice Question with different levels"
   ]
  },
  {
   "cell_type": "markdown",
   "id": "47fff153",
   "metadata": {},
   "source": [
    "# 🟢 Easy Level (Basics)\n",
    "\n",
    "**1.Positive, Negative, or Zero**\n",
    "- Write a program that takes a number and checks if it is positive, negative, or zero."
   ]
  },
  {
   "cell_type": "code",
   "execution_count": 7,
   "id": "defc9895",
   "metadata": {},
   "outputs": [
    {
     "name": "stdout",
     "output_type": "stream",
     "text": [
      "0 is Zero!\n"
     ]
    }
   ],
   "source": [
    "num = int(input(\"Enter a number: \"))\n",
    "\n",
    "if num > 0:\n",
    "    print(f\"{num} is Positive!\")\n",
    "elif num < 0:\n",
    "    print(f\"{num} is Negative!\")\n",
    "else:\n",
    "    print(f\"{num} is Zero!\")\n"
   ]
  },
  {
   "cell_type": "markdown",
   "id": "e0c8d0b9",
   "metadata": {},
   "source": [
    "**2. Largest of Two Numbers**\n",
    "- Take two numbers as input and print the larger one."
   ]
  },
  {
   "cell_type": "code",
   "execution_count": 8,
   "id": "b3cbf355",
   "metadata": {},
   "outputs": [
    {
     "name": "stdout",
     "output_type": "stream",
     "text": [
      "18 is larger than 10\n"
     ]
    }
   ],
   "source": [
    "# Take input from user\n",
    "num1 = int(input(\"Enter first number: \"))\n",
    "num2 = int(input(\"Enter second number: \"))\n",
    "\n",
    "# Compare\n",
    "if num1 > num2:\n",
    "    print(f\"{num1} is larger than {num2}\")\n",
    "elif num2 > num1:\n",
    "    print(f\"{num2} is larger than {num1}\")\n",
    "else:\n",
    "    print(\"Both numbers are equal!\")\n"
   ]
  },
  {
   "cell_type": "markdown",
   "id": "96a6a3eb",
   "metadata": {},
   "source": [
    "**3.Divisible by 5 and 11**\n",
    "- Check if a number is divisible by both 5 and 11."
   ]
  },
  {
   "cell_type": "code",
   "execution_count": 10,
   "id": "480dae7a",
   "metadata": {},
   "outputs": [
    {
     "name": "stdout",
     "output_type": "stream",
     "text": [
      "55 is divisible by both 5 and 11\n"
     ]
    }
   ],
   "source": [
    "num = int(input(\"Enter the number:\"))\n",
    "\n",
    "if num % 5 == 0 and num % 11 == 0:\n",
    "    print(f\"{num} is divisible by both 5 and 11\")\n",
    "else:\n",
    "    print(f\"{num} is NOT divisible by both 5 and 11\")"
   ]
  },
  {
   "cell_type": "markdown",
   "id": "4583355e",
   "metadata": {},
   "source": [
    "**4.Print 1 to 10 using a loop**\n",
    "- Use a for loop to print numbers 1 → 10."
   ]
  },
  {
   "cell_type": "code",
   "execution_count": null,
   "id": "6140ff8d",
   "metadata": {},
   "outputs": [
    {
     "name": "stdout",
     "output_type": "stream",
     "text": [
      "1\n",
      "2\n",
      "3\n",
      "4\n",
      "5\n",
      "6\n",
      "7\n",
      "8\n",
      "9\n",
      "10\n"
     ]
    }
   ],
   "source": [
    "for i in range(1, 11):\n",
    "    print(i)"
   ]
  },
  {
   "cell_type": "markdown",
   "id": "8b3be634",
   "metadata": {},
   "source": [
    "**5.Sum of First N Numbers**\n",
    "- Ask the user for N and calculate the sum of numbers from 1 to N."
   ]
  },
  {
   "cell_type": "code",
   "execution_count": 1,
   "id": "bf2ff324",
   "metadata": {},
   "outputs": [
    {
     "name": "stdout",
     "output_type": "stream",
     "text": [
      "The Sum of First 10 number is: 55\n"
     ]
    }
   ],
   "source": [
    "N = int(input(\"Enter the number:\"))\n",
    "total = 0\n",
    "for i in range(1, N+1):\n",
    "    total += i\n",
    "print(f'The Sum of First {N} number is: {total}')"
   ]
  },
  {
   "cell_type": "markdown",
   "id": "913d9382",
   "metadata": {},
   "source": [
    "# 🟡 Medium Level (Mix of if/else + loops)"
   ]
  },
  {
   "cell_type": "markdown",
   "id": "801a7a4e",
   "metadata": {},
   "source": [
    "**6.Multiplication Table**\n",
    "- Print the multiplication table of a number using a loop."
   ]
  },
  {
   "cell_type": "code",
   "execution_count": 3,
   "id": "9089716a",
   "metadata": {},
   "outputs": [
    {
     "name": "stdout",
     "output_type": "stream",
     "text": [
      "2 * 1 = 2\n",
      "2 * 2 = 4\n",
      "2 * 3 = 6\n",
      "2 * 4 = 8\n",
      "2 * 5 = 10\n",
      "2 * 6 = 12\n",
      "2 * 7 = 14\n",
      "2 * 8 = 16\n",
      "2 * 9 = 18\n",
      "2 * 10 = 20\n"
     ]
    }
   ],
   "source": [
    "num = int(input(\"Enter a number to prints its multiplication table:\"))\n",
    "for i in range(1, 11):\n",
    "    print(f\"{num} * {i} = {num * i}\")"
   ]
  },
  {
   "cell_type": "markdown",
   "id": "75370385",
   "metadata": {},
   "source": [
    "**7.Factorial of a Number**\n",
    "- Find the factorial of a number using a while loop."
   ]
  },
  {
   "cell_type": "code",
   "execution_count": 6,
   "id": "60881e1a",
   "metadata": {},
   "outputs": [
    {
     "name": "stdout",
     "output_type": "stream",
     "text": [
      "The Factorial of 100 is: 93326215443944152681699238856266700490715968264381621468592963895217599993229915608941463976156518286253697920827223758251185210916864000000000000000000000000\n"
     ]
    }
   ],
   "source": [
    "num = int(input(\"Enter a number:\"))\n",
    "factorial = 1\n",
    "i = 1\n",
    "while i <= num:\n",
    "    factorial *= i\n",
    "    i += 1\n",
    "print(f\"The Factorial of {num} is: {factorial}\")"
   ]
  },
  {
   "cell_type": "markdown",
   "id": "71fb1856",
   "metadata": {},
   "source": [
    "- Here’s the improved version of factorial with a while loop that also handles zero and negative numbers:"
   ]
  },
  {
   "cell_type": "code",
   "execution_count": 10,
   "id": "08162b6b",
   "metadata": {},
   "outputs": [
    {
     "name": "stdout",
     "output_type": "stream",
     "text": [
      "Factorial does not exist for negative numbers!\n"
     ]
    }
   ],
   "source": [
    "num = int(input(\"Enter a number:\"))\n",
    "if num < 0:\n",
    "    print(\"Factorial does not exist for negative numbers!\")\n",
    "elif num == 0:\n",
    "    print('Factorial of 0 is 1!')\n",
    "else:\n",
    "    factorial = 1\n",
    "    i = 1\n",
    "    while i <= num:\n",
    "        factorial *= i\n",
    "        i += 1\n",
    "    print(f\"The Factorial of {num} is: {factorial}\")"
   ]
  },
  {
   "cell_type": "code",
   "execution_count": 11,
   "id": "fc4955a2",
   "metadata": {},
   "outputs": [
    {
     "name": "stdout",
     "output_type": "stream",
     "text": [
      "The Factorial of 5 is: 120\n"
     ]
    }
   ],
   "source": [
    "num = int(input(\"Enter a number:\"))\n",
    "if num < 0:\n",
    "    print(\"Factorial does not exist for negative numbers!\")\n",
    "elif num == 0:\n",
    "    print('Factorial of 0 is 1!')\n",
    "else:\n",
    "    factorial = 1\n",
    "    for i in range(1, num+1):\n",
    "        factorial *= i\n",
    "    print(f\"The Factorial of {num} is: {factorial}\")\n",
    "    "
   ]
  },
  {
   "cell_type": "markdown",
   "id": "7859809f",
   "metadata": {},
   "source": [
    "**✅ Factorial using recursion:**\n",
    "\n",
    "**🔹 What is Recursion?**\n",
    "\n",
    "👉 Recursion means a function calling itself to solve a smaller version of the same problem, until it reaches a point where it stops (called the base case)."
   ]
  },
  {
   "cell_type": "markdown",
   "id": "1c94e5c6",
   "metadata": {},
   "source": [
    "**🔹 Example with Factorial**\n",
    "\n",
    "- Factorial of n means:\n",
    "    - n! = n × (n-1) × (n-2) × ... × 1\n",
    "- Using recursion:\n",
    "    - factorial(n) = n × factorial(n-1)\n"
   ]
  },
  {
   "cell_type": "code",
   "execution_count": null,
   "id": "16c4cc38",
   "metadata": {},
   "outputs": [
    {
     "name": "stdout",
     "output_type": "stream",
     "text": [
      "The factorial of 5 is: 120\n"
     ]
    }
   ],
   "source": [
    "def factorial(n):\n",
    "    if n < 0:\n",
    "        print(\"Factorial does not exist for Negative Numbers!\")\n",
    "    elif n == 0 or n == 1:\n",
    "        return 1\n",
    "    else:\n",
    "        return n * factorial(n-1)\n",
    "num = int(input(\"Enter a Number:\"))\n",
    "print(f\"The factorial of {num} is: {factorial(num)}\")"
   ]
  },
  {
   "cell_type": "markdown",
   "id": "15acd668",
   "metadata": {},
   "source": [
    "**8.Count Even and Odd Numbers**\n",
    "- From 1 to N, count how many numbers are even and how many are odd."
   ]
  },
  {
   "cell_type": "code",
   "execution_count": 2,
   "id": "cff28648",
   "metadata": {},
   "outputs": [
    {
     "name": "stdout",
     "output_type": "stream",
     "text": [
      "Between 1 and 20:\n",
      "Even numbers = 10\n",
      "Odd numbers  = 10\n"
     ]
    }
   ],
   "source": [
    "N = int(input(\"Enter a number: \"))\n",
    "\n",
    "even_count = 0\n",
    "odd_count = 0\n",
    "\n",
    "for i in range(1, N+1):   # loop from 1 to N\n",
    "    if i % 2 == 0:\n",
    "        even_count += 1\n",
    "    else:\n",
    "        odd_count += 1\n",
    "\n",
    "print(f\"Between 1 and {N}:\")\n",
    "print(f\"Even numbers = {even_count}\")\n",
    "print(f\"Odd numbers  = {odd_count}\")\n"
   ]
  },
  {
   "cell_type": "code",
   "execution_count": null,
   "id": "e2ece37d",
   "metadata": {},
   "outputs": [
    {
     "name": "stdout",
     "output_type": "stream",
     "text": [
      "The Factorial of 5 is: 120\n"
     ]
    }
   ],
   "source": []
  },
  {
   "cell_type": "code",
   "execution_count": null,
   "id": "7357ddd0",
   "metadata": {},
   "outputs": [],
   "source": []
  }
 ],
 "metadata": {
  "kernelspec": {
   "display_name": "Python 3",
   "language": "python",
   "name": "python3"
  },
  "language_info": {
   "codemirror_mode": {
    "name": "ipython",
    "version": 3
   },
   "file_extension": ".py",
   "mimetype": "text/x-python",
   "name": "python",
   "nbconvert_exporter": "python",
   "pygments_lexer": "ipython3",
   "version": "3.10.18"
  }
 },
 "nbformat": 4,
 "nbformat_minor": 5
}
