{
 "cells": [
  {
   "cell_type": "markdown",
   "id": "dfdfdb21",
   "metadata": {},
   "source": [
    "## 1. Data Types in Python 🏷️\n",
    "\n",
    "A data type tells Python what kind of value you are storing in a variable.\n",
    "It’s like the “category” of the item inside your jar.\n",
    "\n"
   ]
  },
  {
   "cell_type": "markdown",
   "id": "2f2c02eb",
   "metadata": {},
   "source": [
    "| Data Type               | Example                         | What it Means                 |\n",
    "| ----------------------- | ------------------------------- | ----------------------------- |\n",
    "| **String** (`str`)      | `\"Deepak\"`                      | Text/characters               |\n",
    "| **Integer** (`int`)     | `25`                            | Whole number                  |\n",
    "| **Float** (`float`)     | `5.9`                           | Decimal number                |\n",
    "| **Boolean** (`bool`)    | `True`, `False`                 | Yes/No values                 |\n",
    "| **List**                | `[1, 2, 3]`                     | Collection of items (ordered) |\n",
    "| **Tuple**               | `(1, 2, 3)`                     | Like a list but unchangeable  |\n",
    "| **Dictionary** (`dict`) | `{\"name\": \"Deepak\", \"age\": 25}` | Key-value pairs               |\n",
    "| **Set**                 | `{1, 2, 3}`                     | Unordered unique items        |\n"
   ]
  },
  {
   "cell_type": "code",
   "execution_count": 1,
   "id": "6f5ca9c6",
   "metadata": {},
   "outputs": [],
   "source": [
    "# String\n",
    "name = \"Deepak\"\n",
    "\n",
    "# Integer\n",
    "age = 25\n",
    "\n",
    "# Float\n",
    "height = 5.9\n",
    "\n",
    "# Boolean\n",
    "is_student = True\n",
    "\n",
    "# List\n",
    "fruits = [\"apple\", \"banana\", \"mango\"]\n",
    "\n",
    "# Tuple\n",
    "coordinates = (10, 20)\n",
    "\n",
    "# Dictionary\n",
    "person = {\"name\": \"Deepak\", \"age\": 25}\n",
    "\n",
    "# Set\n",
    "unique_numbers = {1, 2, 3, 3}  # duplicates removed automatically\n"
   ]
  },
  {
   "cell_type": "markdown",
   "id": "19c9f495",
   "metadata": {},
   "source": [
    "## 2. Operators in Python 🔧\n",
    "\n",
    "Operators are symbols that tell Python to do something with values or variables — like math, comparison, or combining"
   ]
  },
  {
   "cell_type": "markdown",
   "id": "7b40cbbe",
   "metadata": {},
   "source": [
    "## Types of Operartor\n",
    "**1.Arithmetic Opeartors ➕➖✖️➗**\n",
    "- Do math operation"
   ]
  },
  {
   "cell_type": "code",
   "execution_count": 2,
   "id": "c6c45f15",
   "metadata": {},
   "outputs": [
    {
     "name": "stdout",
     "output_type": "stream",
     "text": [
      "13\n",
      "7\n",
      "30\n",
      "3.3333333333333335\n",
      "3\n",
      "1\n",
      "1000\n"
     ]
    }
   ],
   "source": [
    "x = 10\n",
    "y = 3\n",
    "print(x + y)  # Addition → 13\n",
    "print(x - y)  # Subtraction → 7\n",
    "print(x * y)  # Multiplication → 30\n",
    "print(x / y)  # Division → 3.333...\n",
    "print(x // y) # Floor division → 3\n",
    "print(x % y)  # Modulus (remainder) → 1\n",
    "print(x ** y) # Power → 1000\n"
   ]
  },
  {
   "cell_type": "markdown",
   "id": "08755f48",
   "metadata": {},
   "source": [
    "**2. Comparison Operators (gives True/False)**"
   ]
  },
  {
   "cell_type": "code",
   "execution_count": 3,
   "id": "975b32a9",
   "metadata": {},
   "outputs": [
    {
     "name": "stdout",
     "output_type": "stream",
     "text": [
      "True\n",
      "False\n",
      "True\n",
      "True\n",
      "True\n",
      "True\n"
     ]
    }
   ],
   "source": [
    "print(5 > 3)   # True\n",
    "print(5 < 3)   # False\n",
    "print(5 == 5)  # True\n",
    "print(5 != 4)  # True\n",
    "print(5 >= 3)  # True\n",
    "print(5 <= 5)  # True\n"
   ]
  },
  {
   "cell_type": "markdown",
   "id": "419c6185",
   "metadata": {},
   "source": [
    "**3. Assignment Operators (store values)**"
   ]
  },
  {
   "cell_type": "code",
   "execution_count": 4,
   "id": "a591efd8",
   "metadata": {},
   "outputs": [],
   "source": [
    "a = 5   # assign\n",
    "a += 2  # add and assign → 7\n",
    "a -= 1  # subtract and assign → 6\n",
    "a *= 3  # multiply and assign → 18"
   ]
  },
  {
   "cell_type": "markdown",
   "id": "797399f4",
   "metadata": {},
   "source": [
    "**4. Logical Operators (combine conditions)**"
   ]
  },
  {
   "cell_type": "code",
   "execution_count": 5,
   "id": "d8fb2411",
   "metadata": {},
   "outputs": [
    {
     "name": "stdout",
     "output_type": "stream",
     "text": [
      "False\n",
      "True\n",
      "False\n"
     ]
    }
   ],
   "source": [
    "print(True and False) # False\n",
    "print(True or False)  # True\n",
    "print(not True)       # False\n"
   ]
  },
  {
   "cell_type": "markdown",
   "id": "cfab2fa9",
   "metadata": {},
   "source": [
    "**We are talking about Logical Operators here:-**\n",
    "\n",
    "- and → Returns True only if both conditions are True.\n",
    "\n",
    "- or → Returns True if at least one condition is True.\n",
    "\n",
    "- not → Flips the value (True becomes False, False becomes True)."
   ]
  },
  {
   "cell_type": "markdown",
   "id": "40e549ee",
   "metadata": {},
   "source": [
    "**5. Membership Operators (check if in a collection)**"
   ]
  },
  {
   "cell_type": "code",
   "execution_count": 6,
   "id": "b3235414",
   "metadata": {},
   "outputs": [
    {
     "name": "stdout",
     "output_type": "stream",
     "text": [
      "True\n",
      "True\n"
     ]
    }
   ],
   "source": [
    "fruits = [\"apple\", \"banana\"]\n",
    "print(\"apple\" in fruits)      # True\n",
    "print(\"mango\" not in fruits)  # True\n"
   ]
  },
  {
   "cell_type": "markdown",
   "id": "d5604463",
   "metadata": {},
   "source": [
    "**6. Identity Operators (check if same object)**"
   ]
  },
  {
   "cell_type": "code",
   "execution_count": 7,
   "id": "54ad52c9",
   "metadata": {},
   "outputs": [
    {
     "name": "stdout",
     "output_type": "stream",
     "text": [
      "True\n",
      "False\n"
     ]
    }
   ],
   "source": [
    "x = [1, 2]\n",
    "y = x\n",
    "print(x is y)      # True\n",
    "print(x is not y)  # False\n"
   ]
  },
  {
   "cell_type": "code",
   "execution_count": null,
   "id": "59481bc1",
   "metadata": {},
   "outputs": [],
   "source": []
  }
 ],
 "metadata": {
  "kernelspec": {
   "display_name": "MyAI",
   "language": "python",
   "name": "python3"
  },
  "language_info": {
   "codemirror_mode": {
    "name": "ipython",
    "version": 3
   },
   "file_extension": ".py",
   "mimetype": "text/x-python",
   "name": "python",
   "nbconvert_exporter": "python",
   "pygments_lexer": "ipython3",
   "version": "3.10.18"
  }
 },
 "nbformat": 4,
 "nbformat_minor": 5
}
