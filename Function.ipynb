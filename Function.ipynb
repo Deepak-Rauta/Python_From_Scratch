{
 "cells": [
  {
   "cell_type": "markdown",
   "id": "1d5bbe7f",
   "metadata": {},
   "source": [
    "# 🐍 Python Functions Learning Roadmap"
   ]
  },
  {
   "cell_type": "markdown",
   "id": "5c31f04c",
   "metadata": {},
   "source": [
    "**➤ Defining & calling functions**\n",
    "- A function is defined using def.\n",
    "\n",
    "- greet is the function name.\n",
    "\n",
    "- () means no parameters here."
   ]
  },
  {
   "cell_type": "code",
   "execution_count": 1,
   "id": "ed05ddad",
   "metadata": {},
   "outputs": [
    {
     "name": "stdout",
     "output_type": "stream",
     "text": [
      "Hello World!\n"
     ]
    }
   ],
   "source": [
    "def greet():\n",
    "    print(\"Hello World!\")\n",
    "\n",
    "greet()"
   ]
  },
  {
   "cell_type": "code",
   "execution_count": 4,
   "id": "6603e2e2",
   "metadata": {},
   "outputs": [
    {
     "name": "stdout",
     "output_type": "stream",
     "text": [
      "Deepak\n",
      "Deepak\n",
      "Deepak\n",
      "Deepak\n",
      "Deepak\n"
     ]
    }
   ],
   "source": [
    "# Practice: Write a function that prints your name 5 times.\n",
    "def My_Name():\n",
    "    for i in range(5):\n",
    "        print(\"Deepak\")\n",
    "My_Name()"
   ]
  },
  {
   "cell_type": "markdown",
   "id": "28d5ba64",
   "metadata": {},
   "source": [
    "**➤ Parameters & arguments**"
   ]
  },
  {
   "cell_type": "code",
   "execution_count": 5,
   "id": "494782cc",
   "metadata": {},
   "outputs": [
    {
     "name": "stdout",
     "output_type": "stream",
     "text": [
      "Hello, Deepak!\n"
     ]
    }
   ],
   "source": [
    "def greet_user(name):\n",
    "    print(f\"Hello, {name}!\")\n",
    "\n",
    "greet_user(\"Deepak\")"
   ]
  },
  {
   "cell_type": "markdown",
   "id": "ec721528",
   "metadata": {},
   "source": [
    "- Parameter = placeholder (name)\n",
    "\n",
    "- Argument = actual value (\"Deepak\")"
   ]
  },
  {
   "cell_type": "code",
   "execution_count": 6,
   "id": "ec89ff26",
   "metadata": {},
   "outputs": [
    {
     "name": "stdout",
     "output_type": "stream",
     "text": [
      "7\n"
     ]
    }
   ],
   "source": [
    "# Practice: Write a function that takes two numbers and prints their sum.\n",
    "def Sum(a, b):\n",
    "    x = a + b\n",
    "    print(x)\n",
    "Sum(2, 5)"
   ]
  },
  {
   "cell_type": "markdown",
   "id": "31a924c0",
   "metadata": {},
   "source": [
    "**➤ Return values**"
   ]
  },
  {
   "cell_type": "code",
   "execution_count": 7,
   "id": "21318193",
   "metadata": {},
   "outputs": [
    {
     "name": "stdout",
     "output_type": "stream",
     "text": [
      "5\n"
     ]
    }
   ],
   "source": [
    "def add(a, b):\n",
    "    return a + b\n",
    "result = add(3, 2)\n",
    "print(result)"
   ]
  },
  {
   "cell_type": "markdown",
   "id": "8328b5fc",
   "metadata": {},
   "source": [
    "- return sends back the result to the caller.\n",
    "\n",
    "- Functions can return any type (int, list, dict, object)."
   ]
  },
  {
   "cell_type": "code",
   "execution_count": 8,
   "id": "e27fcc3b",
   "metadata": {},
   "outputs": [
    {
     "name": "stdout",
     "output_type": "stream",
     "text": [
      "8\n"
     ]
    }
   ],
   "source": [
    "def add(a, b):\n",
    "    return a + b\n",
    "print(add(3, 5))"
   ]
  },
  {
   "cell_type": "markdown",
   "id": "2cf23c53",
   "metadata": {},
   "source": [
    "🔹 print vs return in functions\n",
    "1. Using print inside a function"
   ]
  },
  {
   "cell_type": "markdown",
   "id": "ed41bb88",
   "metadata": {},
   "source": [
    "# 🔹 print vs return in functions"
   ]
  },
  {
   "cell_type": "markdown",
   "id": "4e072a01",
   "metadata": {},
   "source": [
    "**1. Using print inside a function**\n"
   ]
  },
  {
   "cell_type": "code",
   "execution_count": 10,
   "id": "f23b7932",
   "metadata": {},
   "outputs": [
    {
     "name": "stdout",
     "output_type": "stream",
     "text": [
      "8\n",
      "Result: None\n"
     ]
    }
   ],
   "source": [
    "def add_print(a, b):\n",
    "    print(a + b)\n",
    "\n",
    "result = add_print(3, 5)   # Call function\n",
    "print(\"Result:\", result)\n"
   ]
  },
  {
   "cell_type": "markdown",
   "id": "a28a3eb5",
   "metadata": {},
   "source": [
    "- print(a + b) just shows the value on the screen, but does not give it back to the program.\n",
    "\n",
    "- Since there is no return, Python automatically returns None.\n",
    "\n",
    "- So result becomes None."
   ]
  },
  {
   "cell_type": "markdown",
   "id": "eb440956",
   "metadata": {},
   "source": [
    "**2. Using return inside a function**"
   ]
  },
  {
   "cell_type": "code",
   "execution_count": 11,
   "id": "104566a1",
   "metadata": {},
   "outputs": [
    {
     "name": "stdout",
     "output_type": "stream",
     "text": [
      "Result: 8\n"
     ]
    }
   ],
   "source": [
    "def add_return(a, b):\n",
    "    return a + b\n",
    "\n",
    "result = add_return(3, 5)   # Call function\n",
    "print(\"Result:\", result)\n"
   ]
  },
  {
   "cell_type": "code",
   "execution_count": null,
   "id": "56e8215a",
   "metadata": {},
   "outputs": [
    {
     "name": "stdout",
     "output_type": "stream",
     "text": [
      "Odd\n",
      "Even\n"
     ]
    }
   ],
   "source": [
    "# Practice: Write a function that returns whether a number is even or odd.\n",
    "def Solution(num):\n",
    "    if num % 2 == 0:\n",
    "        return \"Even\"\n",
    "    else:\n",
    "        return \"Odd\"\n",
    "print(Solution(3))\n",
    "print(Solution(4))"
   ]
  },
  {
   "cell_type": "code",
   "execution_count": 13,
   "id": "a2875b67",
   "metadata": {},
   "outputs": [
    {
     "name": "stdout",
     "output_type": "stream",
     "text": [
      "Even\n",
      "Odd\n"
     ]
    }
   ],
   "source": [
    "# Example 2: Using only return (cleaner)\n",
    "def check_even_odd(num):\n",
    "    return \"Even\" if num % 2 == 0 else \"Odd\"\n",
    "print(check_even_odd(12))\n",
    "print(check_even_odd(5))"
   ]
  },
  {
   "cell_type": "code",
   "execution_count": 16,
   "id": "d6a2f0b2",
   "metadata": {},
   "outputs": [
    {
     "name": "stdout",
     "output_type": "stream",
     "text": [
      "2 4 6 8 10 "
     ]
    }
   ],
   "source": [
    "# Write a function that prints all even numbers from 1 to N.\n",
    "def check_even(num):\n",
    "    for i in range(1, num+1):\n",
    "        if i % 2 == 0:\n",
    "            print(i, end=\" \")\n",
    "check_even(10)\n",
    "        "
   ]
  },
  {
   "cell_type": "code",
   "execution_count": 17,
   "id": "eddbfd4d",
   "metadata": {},
   "outputs": [
    {
     "name": "stdout",
     "output_type": "stream",
     "text": [
      "1 3 5 7 9 "
     ]
    }
   ],
   "source": [
    "# Print all odd numbers\n",
    "def check_odd(n):\n",
    "    for i in range(1, n+1):\n",
    "        if i % 2 != 0:\n",
    "            print(i, end=\" \")\n",
    "check_odd(10)"
   ]
  },
  {
   "cell_type": "markdown",
   "id": "22583baa",
   "metadata": {},
   "source": [
    "**➤ Default parameters**"
   ]
  },
  {
   "cell_type": "code",
   "execution_count": null,
   "id": "37e39c81",
   "metadata": {},
   "outputs": [
    {
     "name": "stdout",
     "output_type": "stream",
     "text": [
      "Hello, Guest!\n",
      "Hello, Deepak!\n"
     ]
    }
   ],
   "source": [
    "def greet(name=\"Guest\"):\n",
    "    print(f\"Hello, {name}!\")\n",
    "\n",
    "greet()\n",
    "greet(\"Deepak\")\n",
    "\n",
    "# If no value is passed, default is used."
   ]
  },
  {
   "cell_type": "code",
   "execution_count": 21,
   "id": "d0f3735c",
   "metadata": {},
   "outputs": [
    {
     "name": "stdout",
     "output_type": "stream",
     "text": [
      "100.0\n",
      "200.0\n"
     ]
    }
   ],
   "source": [
    "# ✅ Practice: Write a function that calculates simple interest, with default rate = 5%.\n",
    "\n",
    "def SimpleInterest(principal, time, rate=5):\n",
    "    si = (principal * rate * time) / 100\n",
    "    return si\n",
    "print(SimpleInterest(1000, 2))\n",
    "print(SimpleInterest(1000, 2, 10))"
   ]
  },
  {
   "cell_type": "markdown",
   "id": "715aeaf9",
   "metadata": {},
   "source": [
    "**➤ Keyword arguments**"
   ]
  },
  {
   "cell_type": "code",
   "execution_count": 19,
   "id": "4e61f1ec",
   "metadata": {},
   "outputs": [
    {
     "name": "stdout",
     "output_type": "stream",
     "text": [
      "My name is Deepak and i am 23 years old!\n"
     ]
    }
   ],
   "source": [
    "def introduce(name, age):\n",
    "    print(f\"My name is {name} and i am {age} years old!\")\n",
    "\n",
    "introduce(name=\"Deepak\", age=23)"
   ]
  },
  {
   "cell_type": "code",
   "execution_count": null,
   "id": "cdc857c2",
   "metadata": {},
   "outputs": [],
   "source": []
  }
 ],
 "metadata": {
  "kernelspec": {
   "display_name": "Python 3",
   "language": "python",
   "name": "python3"
  },
  "language_info": {
   "codemirror_mode": {
    "name": "ipython",
    "version": 3
   },
   "file_extension": ".py",
   "mimetype": "text/x-python",
   "name": "python",
   "nbconvert_exporter": "python",
   "pygments_lexer": "ipython3",
   "version": "3.10.18"
  }
 },
 "nbformat": 4,
 "nbformat_minor": 5
}
