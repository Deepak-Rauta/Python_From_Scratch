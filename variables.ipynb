{
 "cells": [
  {
   "cell_type": "markdown",
   "id": "d0ba0b1a",
   "metadata": {},
   "source": [
    "## Variables"
   ]
  },
  {
   "cell_type": "markdown",
   "id": "70feeb55",
   "metadata": {},
   "source": [
    "- In python's variable is just a **name** you give to store some data in your computer's memory so you can use it later.\n",
    "\n",
    "- Think of it like a box with a label\n",
    "\n",
    "    - The box stores something (a number, text, list, etc.).\n",
    "\n",
    "    - The label is the variable’s name, so you know what’s inside.\n",
    "\n"
   ]
  },
  {
   "cell_type": "code",
   "execution_count": 1,
   "id": "56bce1d3",
   "metadata": {},
   "outputs": [],
   "source": [
    "# Example\n",
    "name = \"Deepak\"\n",
    "age = 25\n",
    "height = 5.9"
   ]
  },
  {
   "cell_type": "markdown",
   "id": "986be564",
   "metadata": {},
   "source": [
    "- In the above examples **name** is a box storing **Deepak**"
   ]
  },
  {
   "cell_type": "markdown",
   "id": "4bffe28e",
   "metadata": {},
   "source": []
  },
  {
   "cell_type": "code",
   "execution_count": 4,
   "id": "b733b201",
   "metadata": {},
   "outputs": [
    {
     "name": "stdout",
     "output_type": "stream",
     "text": [
      "10\n",
      "15\n"
     ]
    }
   ],
   "source": [
    "# Example 1 — Updating variables using old value\n",
    "\n",
    "score = 0\n",
    "score = score + 10\n",
    "print(score)\n",
    "\n",
    "score += 5\n",
    "print(score)\n",
    "\n"
   ]
  },
  {
   "cell_type": "code",
   "execution_count": null,
   "id": "341ba010",
   "metadata": {},
   "outputs": [],
   "source": []
  }
 ],
 "metadata": {
  "kernelspec": {
   "display_name": "MyAI",
   "language": "python",
   "name": "python3"
  },
  "language_info": {
   "codemirror_mode": {
    "name": "ipython",
    "version": 3
   },
   "file_extension": ".py",
   "mimetype": "text/x-python",
   "name": "python",
   "nbconvert_exporter": "python",
   "pygments_lexer": "ipython3",
   "version": "3.10.18"
  }
 },
 "nbformat": 4,
 "nbformat_minor": 5
}
